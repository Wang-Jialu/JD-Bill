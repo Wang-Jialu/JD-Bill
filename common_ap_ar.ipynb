{
 "cells": [
  {
   "cell_type": "code",
   "execution_count": null,
   "metadata": {},
   "outputs": [],
   "source": [
    "import os\n",
    "import pandas as pd\n",
    "import numpy as np"
   ]
  },
  {
   "cell_type": "code",
   "execution_count": null,
   "metadata": {},
   "outputs": [],
   "source": [
    "cost_folder = r\"\" #path to specific customer ap folder\n",
    "receivable_folder = r\"\"#path to specific customer ar folder\n",
    "\n",
    "def convert_waybill_number(value):\n",
    "    if isinstance(value, (int, float)):\n",
    "        return str(int(value)) + '\\t'\n",
    "    else:\n",
    "        return str(value) + '\\t'\n",
    "\n",
    "chitacost = []\n",
    "for root, dirs, files in os.walk(cost_folder):\n",
    "    for file in files:\n",
    "        if file.endswith('.xlsx'):\n",
    "            file_path = os.path.join(root, file)\n",
    "            print(file_path)\n",
    "            df = pd.read_excel(file_path)\n",
    "            df.fillna(0, inplace=True)\n",
    "            df['Express or Ground Tracking ID'] = df['Express or Ground Tracking ID'].apply(convert_waybill_number)\n",
    "            chitacost.extend(df['Express or Ground Tracking ID'].tolist())\n",
    "\n",
    "chita_receivable = []\n",
    "for root, dirs, files in os.walk(receivable_folder):\n",
    "    print(root)\n",
    "    for file in files:\n",
    "        if file.endswith('.csv'):\n",
    "            file_path = os.path.join(root, file)\n",
    "            print(file_path)\n",
    "            df = pd.read_csv(file_path)\n",
    "            df.fillna(0, inplace=True)\n",
    "            df['Waybill Number'] = df['Waybill Number'].apply(convert_waybill_number)\n",
    "            chita_receivable.extend(df['Waybill Number'].tolist())\n",
    "\n",
    "common = list(set(chitacost) & set(chita_receivable))\n",
    "\n",
    "extra_in_receivable = list(set(chita_receivable) - set(common))\n",
    "\n",
    "print(len(extra_in_receivable))"
   ]
  },
  {
   "cell_type": "code",
   "execution_count": null,
   "metadata": {},
   "outputs": [],
   "source": [
    "print(extra_in_receivable)"
   ]
  },
  {
   "cell_type": "code",
   "execution_count": null,
   "metadata": {},
   "outputs": [],
   "source": [
    "max_len = max(len(chitacost), len(chita_receivable))\n",
    "chita_receivable.extend([np.nan] * (max_len - len(chita_receivable)))\n",
    "common.extend([np.nan] * (max_len - len(common)))\n",
    "extra_in_receivable.extend([np.nan] * (max_len - len(extra_in_receivable)))\n",
    "\n",
    "\n",
    "print(max_len)\n",
    "print(len(chitacost))\n",
    "print(len(chita_receivable))\n",
    "print(len(common))\n",
    "print(len(extra_in_receivable))\n",
    "\n",
    "output_data = {'chitacost': chitacost, 'chita_receivable': chita_receivable, 'common': common, 'extra': extra_in_receivable}\n",
    "output_df = pd.DataFrame(output_data)\n",
    "output_df.to_excel(r\"\", index=False) #path to output file\n"
   ]
  },
  {
   "cell_type": "code",
   "execution_count": null,
   "metadata": {},
   "outputs": [],
   "source": [
    "common_data_a = pd.DataFrame()\n",
    "common_data_l = pd.DataFrame()\n",
    "extra_data_a = pd.DataFrame()\n",
    "extra_data_l = pd.DataFrame()\n",
    "\n",
    "for root, dirs, files in os.walk(cost_folder):\n",
    "    for file in files:\n",
    "        if file.endswith('.xlsx'):\n",
    "            file_path = os.path.join(root, file)\n",
    "            print(file_path)\n",
    "            df = pd.read_excel(file_path)\n",
    "            df.fillna(0, inplace=True)\n",
    "            df['Express or Ground Tracking ID'] = df['Express or Ground Tracking ID'].apply(convert_waybill_number)\n",
    "            if '大方广' in file:\n",
    "                print(file)\n",
    "                common_data_a = pd.concat([common_data_a, df[df['Express or Ground Tracking ID'].isin(common)]])\n",
    "                extra_data_a = pd.concat([extra_data_a, df[df['Express or Ground Tracking ID'].isin(extra_in_receivable)]])\n",
    "            else:\n",
    "                print(file)\n",
    "                common_data_l = pd.concat([common_data_l, df[df['Express or Ground Tracking ID'].isin(common)]])\n",
    "                extra_data_l = pd.concat([extra_data_l, df[df['Express or Ground Tracking ID'].isin(extra_in_receivable)]])\n",
    "\n",
    "with pd.ExcelWriter(r\"\", engine='openpyxl', mode='a') as writer: #path to output file\n",
    "    common_data_a.to_excel(writer, sheet_name=\"重叠的成本账单FedexA\", index=False)\n",
    "    common_data_l.to_excel(writer, sheet_name=\"重叠的成本账单FedexL\", index=False)\n",
    "    extra_data_a.to_excel(writer, sheet_name=\"不重叠的FedexA\", index=False)\n",
    "    extra_data_l.to_excel(writer, sheet_name=\"不重叠的FedexL\", index=False)\n",
    "\n"
   ]
  }
 ],
 "metadata": {
  "kernelspec": {
   "display_name": "Python 3",
   "language": "python",
   "name": "python3"
  },
  "language_info": {
   "codemirror_mode": {
    "name": "ipython",
    "version": 3
   },
   "file_extension": ".py",
   "mimetype": "text/x-python",
   "name": "python",
   "nbconvert_exporter": "python",
   "pygments_lexer": "ipython3",
   "version": "3.8.10"
  }
 },
 "nbformat": 4,
 "nbformat_minor": 2
}

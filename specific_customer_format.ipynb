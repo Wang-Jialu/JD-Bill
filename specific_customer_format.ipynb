{
 "cells": [
  {
   "cell_type": "code",
   "execution_count": null,
   "metadata": {},
   "outputs": [],
   "source": [
    "import pandas as pd"
   ]
  },
  {
   "cell_type": "code",
   "execution_count": null,
   "metadata": {},
   "outputs": [],
   "source": [
    "event_data_file = r\"\" #path to the original file\n",
    "event_data = pd.read_excel(event_data_file, sheet_name=\"Sheet1\")\n",
    "\n",
    "bill_template_file = r\"\" #path to the template\n",
    "bill_template = pd.read_excel(bill_template_file, sheet_name=\"\", header=None) #select a sheet from the template file"
   ]
  },
  {
   "cell_type": "code",
   "execution_count": null,
   "metadata": {},
   "outputs": [],
   "source": [
    "template = dict(zip(bill_template.iloc[1], bill_template.iloc[0]))\n",
    "print(len(template))\n",
    "\n",
    "output = pd.DataFrame()\n",
    "print(template.items())\n",
    "\n",
    "for column_name, mapped_column_name in template.items():\n",
    "    if column_name not in event_data.columns:\n",
    "        output[mapped_column_name] = None\n",
    "        print(column_name)\n",
    "    elif column_name in event_data.columns:\n",
    "        output[mapped_column_name] = event_data[column_name]\n",
    "\n",
    "\n",
    "\n",
    "\n",
    "output_file = \"\" #output file name\n",
    "with pd.ExcelWriter(output_file, mode='a') as writer:\n",
    "    output.to_excel(writer, sheet_name='', index=False) #output sheet name\n",
    "\n"
   ]
  }
 ],
 "metadata": {
  "kernelspec": {
   "display_name": "Python 3",
   "language": "python",
   "name": "python3"
  },
  "language_info": {
   "codemirror_mode": {
    "name": "ipython",
    "version": 3
   },
   "file_extension": ".py",
   "mimetype": "text/x-python",
   "name": "python",
   "nbconvert_exporter": "python",
   "pygments_lexer": "ipython3",
   "version": "3.8.10"
  }
 },
 "nbformat": 4,
 "nbformat_minor": 2
}
